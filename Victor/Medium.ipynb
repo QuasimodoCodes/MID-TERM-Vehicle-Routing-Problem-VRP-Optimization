{
 "cells": [
  {
   "cell_type": "code",
   "execution_count": null,
   "id": "f98f3e74",
   "metadata": {},
   "outputs": [],
   "source": [
    "# MEDIUM (11-25 vehicles, 15-30 customers)\n",
    "medium = {\n",
    "    'scenario_1': {\n",
    "        'name': 'Balanced Load',\n",
    "        'locations': [(0, 0), (15, 25), (8, 17), (31, 9), (22, 34), (6, 12), (28, 18), (14, 30), (35, 15), (19, 7),\n",
    "                      (11, 26), (33, 22), (7, 19), (25, 11), (18, 32), (12, 8), (29, 25), (21, 16), (34, 29), (16, 13),\n",
    "                      (27, 21), (9, 35), (32, 6)],  # 22 customers + depot\n",
    "        'num_vehicles': 15,\n",
    "        'population_size': 100\n",
    "    },\n",
    "    'scenario_2': {\n",
    "        'name': 'High Density',\n",
    "        'locations': [(0, 0), (18, 29), (7, 15), (35, 8), (24, 38), (11, 22), (31, 17), (16, 31), (42, 12), (19, 6),\n",
    "                      (13, 35), (37, 25), (8, 19), (28, 14), (21, 40), (15, 9), (33, 33), (26, 18), (39, 28), (17, 11),\n",
    "                      (30, 22), (12, 37), (36, 15), (23, 32), (14, 26), (40, 19), (27, 13), (20, 41), (34, 7)],  # 28 customers + depot\n",
    "        'num_vehicles': 20,\n",
    "        'population_size': 100\n",
    "    }\n",
    "}"
   ]
  }
 ],
 "metadata": {
  "language_info": {
   "name": "python"
  }
 },
 "nbformat": 4,
 "nbformat_minor": 5
}
